{
  "nbformat": 4,
  "nbformat_minor": 0,
  "metadata": {
    "kernelspec": {
      "display_name": "Python 3",
      "language": "python",
      "name": "python3"
    },
    "language_info": {
      "codemirror_mode": {
        "name": "ipython",
        "version": 3
      },
      "file_extension": ".py",
      "mimetype": "text/x-python",
      "name": "python",
      "nbconvert_exporter": "python",
      "pygments_lexer": "ipython3",
      "version": "3.7.6"
    },
    "colab": {
      "name": "pca.ipynb",
      "provenance": [],
      "collapsed_sections": [],
      "machine_shape": "hm"
    }
  },
  "cells": [
    {
      "cell_type": "code",
      "metadata": {
        "id": "w90yCBFL-qh0",
        "colab_type": "code",
        "colab": {}
      },
      "source": [
        "import numpy as np\n",
        "import pandas as pd\n",
        "import seaborn as sns\n",
        "import matplotlib.pyplot as plt\n",
        "import scipy\n",
        "from sklearn.preprocessing import LabelEncoder, StandardScaler\n",
        "from sklearn.decomposition import PCA "
      ],
      "execution_count": 0,
      "outputs": []
    },
    {
      "cell_type": "code",
      "metadata": {
        "id": "ZDI4TncN-qh8",
        "colab_type": "code",
        "colab": {}
      },
      "source": [
        "pd.set_option('display.max_columns',False)"
      ],
      "execution_count": 0,
      "outputs": []
    },
    {
      "cell_type": "code",
      "metadata": {
        "id": "e5GXX7sc-qiC",
        "colab_type": "code",
        "colab": {}
      },
      "source": [
        "df = pd.read_csv('bank-additional/bank-additional-full.csv',sep = ';')"
      ],
      "execution_count": 0,
      "outputs": []
    },
    {
      "cell_type": "code",
      "metadata": {
        "id": "xnnYzx3k-qiI",
        "colab_type": "code",
        "colab": {
          "base_uri": "https://localhost:8080/",
          "height": 35
        },
        "outputId": "20d1c41c-931d-4dcf-859e-8b54ad83b4aa"
      },
      "source": [
        "df.shape"
      ],
      "execution_count": 9,
      "outputs": [
        {
          "output_type": "execute_result",
          "data": {
            "text/plain": [
              "(41188, 21)"
            ]
          },
          "metadata": {
            "tags": []
          },
          "execution_count": 9
        }
      ]
    },
    {
      "cell_type": "code",
      "metadata": {
        "id": "x4dBN1ha-qiP",
        "colab_type": "code",
        "colab": {
          "base_uri": "https://localhost:8080/",
          "height": 220
        },
        "outputId": "f4dee86a-be15-4be1-ab10-7f2f2323e32b"
      },
      "source": [
        "df.head()"
      ],
      "execution_count": 10,
      "outputs": [
        {
          "output_type": "execute_result",
          "data": {
            "text/html": [
              "<div>\n",
              "<style scoped>\n",
              "    .dataframe tbody tr th:only-of-type {\n",
              "        vertical-align: middle;\n",
              "    }\n",
              "\n",
              "    .dataframe tbody tr th {\n",
              "        vertical-align: top;\n",
              "    }\n",
              "\n",
              "    .dataframe thead th {\n",
              "        text-align: right;\n",
              "    }\n",
              "</style>\n",
              "<table border=\"1\" class=\"dataframe\">\n",
              "  <thead>\n",
              "    <tr style=\"text-align: right;\">\n",
              "      <th></th>\n",
              "      <th>age</th>\n",
              "      <th>job</th>\n",
              "      <th>marital</th>\n",
              "      <th>education</th>\n",
              "      <th>default</th>\n",
              "      <th>housing</th>\n",
              "      <th>loan</th>\n",
              "      <th>contact</th>\n",
              "      <th>month</th>\n",
              "      <th>day_of_week</th>\n",
              "      <th>duration</th>\n",
              "      <th>campaign</th>\n",
              "      <th>pdays</th>\n",
              "      <th>previous</th>\n",
              "      <th>poutcome</th>\n",
              "      <th>emp.var.rate</th>\n",
              "      <th>cons.price.idx</th>\n",
              "      <th>cons.conf.idx</th>\n",
              "      <th>euribor3m</th>\n",
              "      <th>nr.employed</th>\n",
              "      <th>y</th>\n",
              "    </tr>\n",
              "  </thead>\n",
              "  <tbody>\n",
              "    <tr>\n",
              "      <th>0</th>\n",
              "      <td>56</td>\n",
              "      <td>housemaid</td>\n",
              "      <td>married</td>\n",
              "      <td>basic.4y</td>\n",
              "      <td>no</td>\n",
              "      <td>no</td>\n",
              "      <td>no</td>\n",
              "      <td>telephone</td>\n",
              "      <td>may</td>\n",
              "      <td>mon</td>\n",
              "      <td>261</td>\n",
              "      <td>1</td>\n",
              "      <td>999</td>\n",
              "      <td>0</td>\n",
              "      <td>nonexistent</td>\n",
              "      <td>1.1</td>\n",
              "      <td>93.994</td>\n",
              "      <td>-36.4</td>\n",
              "      <td>4.857</td>\n",
              "      <td>5191.0</td>\n",
              "      <td>no</td>\n",
              "    </tr>\n",
              "    <tr>\n",
              "      <th>1</th>\n",
              "      <td>57</td>\n",
              "      <td>services</td>\n",
              "      <td>married</td>\n",
              "      <td>high.school</td>\n",
              "      <td>unknown</td>\n",
              "      <td>no</td>\n",
              "      <td>no</td>\n",
              "      <td>telephone</td>\n",
              "      <td>may</td>\n",
              "      <td>mon</td>\n",
              "      <td>149</td>\n",
              "      <td>1</td>\n",
              "      <td>999</td>\n",
              "      <td>0</td>\n",
              "      <td>nonexistent</td>\n",
              "      <td>1.1</td>\n",
              "      <td>93.994</td>\n",
              "      <td>-36.4</td>\n",
              "      <td>4.857</td>\n",
              "      <td>5191.0</td>\n",
              "      <td>no</td>\n",
              "    </tr>\n",
              "    <tr>\n",
              "      <th>2</th>\n",
              "      <td>37</td>\n",
              "      <td>services</td>\n",
              "      <td>married</td>\n",
              "      <td>high.school</td>\n",
              "      <td>no</td>\n",
              "      <td>yes</td>\n",
              "      <td>no</td>\n",
              "      <td>telephone</td>\n",
              "      <td>may</td>\n",
              "      <td>mon</td>\n",
              "      <td>226</td>\n",
              "      <td>1</td>\n",
              "      <td>999</td>\n",
              "      <td>0</td>\n",
              "      <td>nonexistent</td>\n",
              "      <td>1.1</td>\n",
              "      <td>93.994</td>\n",
              "      <td>-36.4</td>\n",
              "      <td>4.857</td>\n",
              "      <td>5191.0</td>\n",
              "      <td>no</td>\n",
              "    </tr>\n",
              "    <tr>\n",
              "      <th>3</th>\n",
              "      <td>40</td>\n",
              "      <td>admin.</td>\n",
              "      <td>married</td>\n",
              "      <td>basic.6y</td>\n",
              "      <td>no</td>\n",
              "      <td>no</td>\n",
              "      <td>no</td>\n",
              "      <td>telephone</td>\n",
              "      <td>may</td>\n",
              "      <td>mon</td>\n",
              "      <td>151</td>\n",
              "      <td>1</td>\n",
              "      <td>999</td>\n",
              "      <td>0</td>\n",
              "      <td>nonexistent</td>\n",
              "      <td>1.1</td>\n",
              "      <td>93.994</td>\n",
              "      <td>-36.4</td>\n",
              "      <td>4.857</td>\n",
              "      <td>5191.0</td>\n",
              "      <td>no</td>\n",
              "    </tr>\n",
              "    <tr>\n",
              "      <th>4</th>\n",
              "      <td>56</td>\n",
              "      <td>services</td>\n",
              "      <td>married</td>\n",
              "      <td>high.school</td>\n",
              "      <td>no</td>\n",
              "      <td>no</td>\n",
              "      <td>yes</td>\n",
              "      <td>telephone</td>\n",
              "      <td>may</td>\n",
              "      <td>mon</td>\n",
              "      <td>307</td>\n",
              "      <td>1</td>\n",
              "      <td>999</td>\n",
              "      <td>0</td>\n",
              "      <td>nonexistent</td>\n",
              "      <td>1.1</td>\n",
              "      <td>93.994</td>\n",
              "      <td>-36.4</td>\n",
              "      <td>4.857</td>\n",
              "      <td>5191.0</td>\n",
              "      <td>no</td>\n",
              "    </tr>\n",
              "  </tbody>\n",
              "</table>\n",
              "</div>"
            ],
            "text/plain": [
              "   age        job  marital  ... euribor3m nr.employed   y\n",
              "0   56  housemaid  married  ...     4.857      5191.0  no\n",
              "1   57   services  married  ...     4.857      5191.0  no\n",
              "2   37   services  married  ...     4.857      5191.0  no\n",
              "3   40     admin.  married  ...     4.857      5191.0  no\n",
              "4   56   services  married  ...     4.857      5191.0  no\n",
              "\n",
              "[5 rows x 21 columns]"
            ]
          },
          "metadata": {
            "tags": []
          },
          "execution_count": 10
        }
      ]
    },
    {
      "cell_type": "code",
      "metadata": {
        "id": "Q9qBlks3-qiV",
        "colab_type": "code",
        "colab": {
          "base_uri": "https://localhost:8080/",
          "height": 68
        },
        "outputId": "48b23a8b-7813-4e21-dc14-8a545383d42a"
      },
      "source": [
        "df[df.isna().any(1)]"
      ],
      "execution_count": 11,
      "outputs": [
        {
          "output_type": "execute_result",
          "data": {
            "text/html": [
              "<div>\n",
              "<style scoped>\n",
              "    .dataframe tbody tr th:only-of-type {\n",
              "        vertical-align: middle;\n",
              "    }\n",
              "\n",
              "    .dataframe tbody tr th {\n",
              "        vertical-align: top;\n",
              "    }\n",
              "\n",
              "    .dataframe thead th {\n",
              "        text-align: right;\n",
              "    }\n",
              "</style>\n",
              "<table border=\"1\" class=\"dataframe\">\n",
              "  <thead>\n",
              "    <tr style=\"text-align: right;\">\n",
              "      <th></th>\n",
              "      <th>age</th>\n",
              "      <th>job</th>\n",
              "      <th>marital</th>\n",
              "      <th>education</th>\n",
              "      <th>default</th>\n",
              "      <th>housing</th>\n",
              "      <th>loan</th>\n",
              "      <th>contact</th>\n",
              "      <th>month</th>\n",
              "      <th>day_of_week</th>\n",
              "      <th>duration</th>\n",
              "      <th>campaign</th>\n",
              "      <th>pdays</th>\n",
              "      <th>previous</th>\n",
              "      <th>poutcome</th>\n",
              "      <th>emp.var.rate</th>\n",
              "      <th>cons.price.idx</th>\n",
              "      <th>cons.conf.idx</th>\n",
              "      <th>euribor3m</th>\n",
              "      <th>nr.employed</th>\n",
              "      <th>y</th>\n",
              "    </tr>\n",
              "  </thead>\n",
              "  <tbody>\n",
              "  </tbody>\n",
              "</table>\n",
              "</div>"
            ],
            "text/plain": [
              "Empty DataFrame\n",
              "Columns: [age, job, marital, education, default, housing, loan, contact, month, day_of_week, duration, campaign, pdays, previous, poutcome, emp.var.rate, cons.price.idx, cons.conf.idx, euribor3m, nr.employed, y]\n",
              "Index: []"
            ]
          },
          "metadata": {
            "tags": []
          },
          "execution_count": 11
        }
      ]
    },
    {
      "cell_type": "code",
      "metadata": {
        "scrolled": true,
        "id": "Q0UtCHOC-qib",
        "colab_type": "code",
        "colab": {
          "base_uri": "https://localhost:8080/",
          "height": 352
        },
        "outputId": "9dc38839-b749-4e2e-8853-42f5b9821e74"
      },
      "source": [
        "df.describe().T"
      ],
      "execution_count": 12,
      "outputs": [
        {
          "output_type": "execute_result",
          "data": {
            "text/html": [
              "<div>\n",
              "<style scoped>\n",
              "    .dataframe tbody tr th:only-of-type {\n",
              "        vertical-align: middle;\n",
              "    }\n",
              "\n",
              "    .dataframe tbody tr th {\n",
              "        vertical-align: top;\n",
              "    }\n",
              "\n",
              "    .dataframe thead th {\n",
              "        text-align: right;\n",
              "    }\n",
              "</style>\n",
              "<table border=\"1\" class=\"dataframe\">\n",
              "  <thead>\n",
              "    <tr style=\"text-align: right;\">\n",
              "      <th></th>\n",
              "      <th>count</th>\n",
              "      <th>mean</th>\n",
              "      <th>std</th>\n",
              "      <th>min</th>\n",
              "      <th>25%</th>\n",
              "      <th>50%</th>\n",
              "      <th>75%</th>\n",
              "      <th>max</th>\n",
              "    </tr>\n",
              "  </thead>\n",
              "  <tbody>\n",
              "    <tr>\n",
              "      <th>age</th>\n",
              "      <td>41188.0</td>\n",
              "      <td>40.024060</td>\n",
              "      <td>10.421250</td>\n",
              "      <td>17.000</td>\n",
              "      <td>32.000</td>\n",
              "      <td>38.000</td>\n",
              "      <td>47.000</td>\n",
              "      <td>98.000</td>\n",
              "    </tr>\n",
              "    <tr>\n",
              "      <th>duration</th>\n",
              "      <td>41188.0</td>\n",
              "      <td>258.285010</td>\n",
              "      <td>259.279249</td>\n",
              "      <td>0.000</td>\n",
              "      <td>102.000</td>\n",
              "      <td>180.000</td>\n",
              "      <td>319.000</td>\n",
              "      <td>4918.000</td>\n",
              "    </tr>\n",
              "    <tr>\n",
              "      <th>campaign</th>\n",
              "      <td>41188.0</td>\n",
              "      <td>2.567593</td>\n",
              "      <td>2.770014</td>\n",
              "      <td>1.000</td>\n",
              "      <td>1.000</td>\n",
              "      <td>2.000</td>\n",
              "      <td>3.000</td>\n",
              "      <td>56.000</td>\n",
              "    </tr>\n",
              "    <tr>\n",
              "      <th>pdays</th>\n",
              "      <td>41188.0</td>\n",
              "      <td>962.475454</td>\n",
              "      <td>186.910907</td>\n",
              "      <td>0.000</td>\n",
              "      <td>999.000</td>\n",
              "      <td>999.000</td>\n",
              "      <td>999.000</td>\n",
              "      <td>999.000</td>\n",
              "    </tr>\n",
              "    <tr>\n",
              "      <th>previous</th>\n",
              "      <td>41188.0</td>\n",
              "      <td>0.172963</td>\n",
              "      <td>0.494901</td>\n",
              "      <td>0.000</td>\n",
              "      <td>0.000</td>\n",
              "      <td>0.000</td>\n",
              "      <td>0.000</td>\n",
              "      <td>7.000</td>\n",
              "    </tr>\n",
              "    <tr>\n",
              "      <th>emp.var.rate</th>\n",
              "      <td>41188.0</td>\n",
              "      <td>0.081886</td>\n",
              "      <td>1.570960</td>\n",
              "      <td>-3.400</td>\n",
              "      <td>-1.800</td>\n",
              "      <td>1.100</td>\n",
              "      <td>1.400</td>\n",
              "      <td>1.400</td>\n",
              "    </tr>\n",
              "    <tr>\n",
              "      <th>cons.price.idx</th>\n",
              "      <td>41188.0</td>\n",
              "      <td>93.575664</td>\n",
              "      <td>0.578840</td>\n",
              "      <td>92.201</td>\n",
              "      <td>93.075</td>\n",
              "      <td>93.749</td>\n",
              "      <td>93.994</td>\n",
              "      <td>94.767</td>\n",
              "    </tr>\n",
              "    <tr>\n",
              "      <th>cons.conf.idx</th>\n",
              "      <td>41188.0</td>\n",
              "      <td>-40.502600</td>\n",
              "      <td>4.628198</td>\n",
              "      <td>-50.800</td>\n",
              "      <td>-42.700</td>\n",
              "      <td>-41.800</td>\n",
              "      <td>-36.400</td>\n",
              "      <td>-26.900</td>\n",
              "    </tr>\n",
              "    <tr>\n",
              "      <th>euribor3m</th>\n",
              "      <td>41188.0</td>\n",
              "      <td>3.621291</td>\n",
              "      <td>1.734447</td>\n",
              "      <td>0.634</td>\n",
              "      <td>1.344</td>\n",
              "      <td>4.857</td>\n",
              "      <td>4.961</td>\n",
              "      <td>5.045</td>\n",
              "    </tr>\n",
              "    <tr>\n",
              "      <th>nr.employed</th>\n",
              "      <td>41188.0</td>\n",
              "      <td>5167.035911</td>\n",
              "      <td>72.251528</td>\n",
              "      <td>4963.600</td>\n",
              "      <td>5099.100</td>\n",
              "      <td>5191.000</td>\n",
              "      <td>5228.100</td>\n",
              "      <td>5228.100</td>\n",
              "    </tr>\n",
              "  </tbody>\n",
              "</table>\n",
              "</div>"
            ],
            "text/plain": [
              "                  count         mean         std  ...       50%       75%       max\n",
              "age             41188.0    40.024060   10.421250  ...    38.000    47.000    98.000\n",
              "duration        41188.0   258.285010  259.279249  ...   180.000   319.000  4918.000\n",
              "campaign        41188.0     2.567593    2.770014  ...     2.000     3.000    56.000\n",
              "pdays           41188.0   962.475454  186.910907  ...   999.000   999.000   999.000\n",
              "previous        41188.0     0.172963    0.494901  ...     0.000     0.000     7.000\n",
              "emp.var.rate    41188.0     0.081886    1.570960  ...     1.100     1.400     1.400\n",
              "cons.price.idx  41188.0    93.575664    0.578840  ...    93.749    93.994    94.767\n",
              "cons.conf.idx   41188.0   -40.502600    4.628198  ...   -41.800   -36.400   -26.900\n",
              "euribor3m       41188.0     3.621291    1.734447  ...     4.857     4.961     5.045\n",
              "nr.employed     41188.0  5167.035911   72.251528  ...  5191.000  5228.100  5228.100\n",
              "\n",
              "[10 rows x 8 columns]"
            ]
          },
          "metadata": {
            "tags": []
          },
          "execution_count": 12
        }
      ]
    },
    {
      "cell_type": "code",
      "metadata": {
        "id": "oNiIij3d-qii",
        "colab_type": "code",
        "colab": {
          "base_uri": "https://localhost:8080/",
          "height": 70
        },
        "outputId": "e085e02e-e276-4bff-f882-cc4e5b5b9d6a"
      },
      "source": [
        "df.columns[df.dtypes == 'object']"
      ],
      "execution_count": 13,
      "outputs": [
        {
          "output_type": "execute_result",
          "data": {
            "text/plain": [
              "Index(['job', 'marital', 'education', 'default', 'housing', 'loan', 'contact',\n",
              "       'month', 'day_of_week', 'poutcome', 'y'],\n",
              "      dtype='object')"
            ]
          },
          "metadata": {
            "tags": []
          },
          "execution_count": 13
        }
      ]
    },
    {
      "cell_type": "code",
      "metadata": {
        "id": "x--hGPFs-qio",
        "colab_type": "code",
        "colab": {}
      },
      "source": [
        "cat_columns = df.columns[df.dtypes == 'object']"
      ],
      "execution_count": 0,
      "outputs": []
    },
    {
      "cell_type": "code",
      "metadata": {
        "id": "K0KmSwWV-qit",
        "colab_type": "code",
        "colab": {}
      },
      "source": [
        "for col in cat_columns:\n",
        "    le = LabelEncoder()\n",
        "    df[col] = le.fit_transform(df[col])"
      ],
      "execution_count": 0,
      "outputs": []
    },
    {
      "cell_type": "code",
      "metadata": {
        "id": "yjZlMsfx-qiy",
        "colab_type": "code",
        "colab": {
          "base_uri": "https://localhost:8080/",
          "height": 220
        },
        "outputId": "4ab2d004-e074-4f64-e203-a0fb84b04aab"
      },
      "source": [
        "df.head()"
      ],
      "execution_count": 16,
      "outputs": [
        {
          "output_type": "execute_result",
          "data": {
            "text/html": [
              "<div>\n",
              "<style scoped>\n",
              "    .dataframe tbody tr th:only-of-type {\n",
              "        vertical-align: middle;\n",
              "    }\n",
              "\n",
              "    .dataframe tbody tr th {\n",
              "        vertical-align: top;\n",
              "    }\n",
              "\n",
              "    .dataframe thead th {\n",
              "        text-align: right;\n",
              "    }\n",
              "</style>\n",
              "<table border=\"1\" class=\"dataframe\">\n",
              "  <thead>\n",
              "    <tr style=\"text-align: right;\">\n",
              "      <th></th>\n",
              "      <th>age</th>\n",
              "      <th>job</th>\n",
              "      <th>marital</th>\n",
              "      <th>education</th>\n",
              "      <th>default</th>\n",
              "      <th>housing</th>\n",
              "      <th>loan</th>\n",
              "      <th>contact</th>\n",
              "      <th>month</th>\n",
              "      <th>day_of_week</th>\n",
              "      <th>duration</th>\n",
              "      <th>campaign</th>\n",
              "      <th>pdays</th>\n",
              "      <th>previous</th>\n",
              "      <th>poutcome</th>\n",
              "      <th>emp.var.rate</th>\n",
              "      <th>cons.price.idx</th>\n",
              "      <th>cons.conf.idx</th>\n",
              "      <th>euribor3m</th>\n",
              "      <th>nr.employed</th>\n",
              "      <th>y</th>\n",
              "    </tr>\n",
              "  </thead>\n",
              "  <tbody>\n",
              "    <tr>\n",
              "      <th>0</th>\n",
              "      <td>56</td>\n",
              "      <td>3</td>\n",
              "      <td>1</td>\n",
              "      <td>0</td>\n",
              "      <td>0</td>\n",
              "      <td>0</td>\n",
              "      <td>0</td>\n",
              "      <td>1</td>\n",
              "      <td>6</td>\n",
              "      <td>1</td>\n",
              "      <td>261</td>\n",
              "      <td>1</td>\n",
              "      <td>999</td>\n",
              "      <td>0</td>\n",
              "      <td>1</td>\n",
              "      <td>1.1</td>\n",
              "      <td>93.994</td>\n",
              "      <td>-36.4</td>\n",
              "      <td>4.857</td>\n",
              "      <td>5191.0</td>\n",
              "      <td>0</td>\n",
              "    </tr>\n",
              "    <tr>\n",
              "      <th>1</th>\n",
              "      <td>57</td>\n",
              "      <td>7</td>\n",
              "      <td>1</td>\n",
              "      <td>3</td>\n",
              "      <td>1</td>\n",
              "      <td>0</td>\n",
              "      <td>0</td>\n",
              "      <td>1</td>\n",
              "      <td>6</td>\n",
              "      <td>1</td>\n",
              "      <td>149</td>\n",
              "      <td>1</td>\n",
              "      <td>999</td>\n",
              "      <td>0</td>\n",
              "      <td>1</td>\n",
              "      <td>1.1</td>\n",
              "      <td>93.994</td>\n",
              "      <td>-36.4</td>\n",
              "      <td>4.857</td>\n",
              "      <td>5191.0</td>\n",
              "      <td>0</td>\n",
              "    </tr>\n",
              "    <tr>\n",
              "      <th>2</th>\n",
              "      <td>37</td>\n",
              "      <td>7</td>\n",
              "      <td>1</td>\n",
              "      <td>3</td>\n",
              "      <td>0</td>\n",
              "      <td>2</td>\n",
              "      <td>0</td>\n",
              "      <td>1</td>\n",
              "      <td>6</td>\n",
              "      <td>1</td>\n",
              "      <td>226</td>\n",
              "      <td>1</td>\n",
              "      <td>999</td>\n",
              "      <td>0</td>\n",
              "      <td>1</td>\n",
              "      <td>1.1</td>\n",
              "      <td>93.994</td>\n",
              "      <td>-36.4</td>\n",
              "      <td>4.857</td>\n",
              "      <td>5191.0</td>\n",
              "      <td>0</td>\n",
              "    </tr>\n",
              "    <tr>\n",
              "      <th>3</th>\n",
              "      <td>40</td>\n",
              "      <td>0</td>\n",
              "      <td>1</td>\n",
              "      <td>1</td>\n",
              "      <td>0</td>\n",
              "      <td>0</td>\n",
              "      <td>0</td>\n",
              "      <td>1</td>\n",
              "      <td>6</td>\n",
              "      <td>1</td>\n",
              "      <td>151</td>\n",
              "      <td>1</td>\n",
              "      <td>999</td>\n",
              "      <td>0</td>\n",
              "      <td>1</td>\n",
              "      <td>1.1</td>\n",
              "      <td>93.994</td>\n",
              "      <td>-36.4</td>\n",
              "      <td>4.857</td>\n",
              "      <td>5191.0</td>\n",
              "      <td>0</td>\n",
              "    </tr>\n",
              "    <tr>\n",
              "      <th>4</th>\n",
              "      <td>56</td>\n",
              "      <td>7</td>\n",
              "      <td>1</td>\n",
              "      <td>3</td>\n",
              "      <td>0</td>\n",
              "      <td>0</td>\n",
              "      <td>2</td>\n",
              "      <td>1</td>\n",
              "      <td>6</td>\n",
              "      <td>1</td>\n",
              "      <td>307</td>\n",
              "      <td>1</td>\n",
              "      <td>999</td>\n",
              "      <td>0</td>\n",
              "      <td>1</td>\n",
              "      <td>1.1</td>\n",
              "      <td>93.994</td>\n",
              "      <td>-36.4</td>\n",
              "      <td>4.857</td>\n",
              "      <td>5191.0</td>\n",
              "      <td>0</td>\n",
              "    </tr>\n",
              "  </tbody>\n",
              "</table>\n",
              "</div>"
            ],
            "text/plain": [
              "   age  job  marital  education  ...  cons.conf.idx  euribor3m  nr.employed  y\n",
              "0   56    3        1          0  ...          -36.4      4.857       5191.0  0\n",
              "1   57    7        1          3  ...          -36.4      4.857       5191.0  0\n",
              "2   37    7        1          3  ...          -36.4      4.857       5191.0  0\n",
              "3   40    0        1          1  ...          -36.4      4.857       5191.0  0\n",
              "4   56    7        1          3  ...          -36.4      4.857       5191.0  0\n",
              "\n",
              "[5 rows x 21 columns]"
            ]
          },
          "metadata": {
            "tags": []
          },
          "execution_count": 16
        }
      ]
    },
    {
      "cell_type": "code",
      "metadata": {
        "id": "qYf4DcQg-qi4",
        "colab_type": "code",
        "colab": {
          "base_uri": "https://localhost:8080/",
          "height": 35
        },
        "outputId": "17f344c8-9a56-498c-d7ed-61c44b5e3b01"
      },
      "source": [
        "df.columns[df.dtypes == 'object']"
      ],
      "execution_count": 17,
      "outputs": [
        {
          "output_type": "execute_result",
          "data": {
            "text/plain": [
              "Index([], dtype='object')"
            ]
          },
          "metadata": {
            "tags": []
          },
          "execution_count": 17
        }
      ]
    },
    {
      "cell_type": "code",
      "metadata": {
        "id": "CskRTpV0-qi-",
        "colab_type": "code",
        "colab": {
          "base_uri": "https://localhost:8080/",
          "height": 624
        },
        "outputId": "f37a1d12-3ea8-4e08-8f4b-cc07b4888130"
      },
      "source": [
        "corr = df.corr()\n",
        "plt.figure(figsize = (10,10))\n",
        "sns.heatmap(corr,square = True)"
      ],
      "execution_count": 18,
      "outputs": [
        {
          "output_type": "execute_result",
          "data": {
            "text/plain": [
              "<matplotlib.axes._subplots.AxesSubplot at 0x7ff090561dd8>"
            ]
          },
          "metadata": {
            "tags": []
          },
          "execution_count": 18
        },
        {
          "output_type": "display_data",
          "data": {
            "image/png": "[encoded data removed]",
            "text/plain": [
              "<Figure size 720x720 with 2 Axes>"
            ]
          },
          "metadata": {
            "tags": [],
            "needs_background": "light"
          }
        }
      ]
    },
    {
      "cell_type": "code",
      "metadata": {
        "id": "SnhP6-GJ-qjD",
        "colab_type": "code",
        "colab": {}
      },
      "source": [
        "X = df.drop('y',1)\n",
        "y = df.y"
      ],
      "execution_count": 0,
      "outputs": []
    },
    {
      "cell_type": "code",
      "metadata": {
        "id": "Uo8azgut-qjG",
        "colab_type": "code",
        "colab": {
          "base_uri": "https://localhost:8080/",
          "height": 390
        },
        "outputId": "111d8cdf-1cc7-423b-a306-2a8f6ab5341f"
      },
      "source": [
        "X.mean()"
      ],
      "execution_count": 20,
      "outputs": [
        {
          "output_type": "execute_result",
          "data": {
            "text/plain": [
              "age                 40.024060\n",
              "job                  3.724580\n",
              "marital              1.172769\n",
              "education            3.747184\n",
              "default              0.208872\n",
              "housing              1.071720\n",
              "loan                 0.327425\n",
              "contact              0.365252\n",
              "month                4.230868\n",
              "day_of_week          2.004613\n",
              "duration           258.285010\n",
              "campaign             2.567593\n",
              "pdays              962.475454\n",
              "previous             0.172963\n",
              "poutcome             0.930101\n",
              "emp.var.rate         0.081886\n",
              "cons.price.idx      93.575664\n",
              "cons.conf.idx      -40.502600\n",
              "euribor3m            3.621291\n",
              "nr.employed       5167.035911\n",
              "dtype: float64"
            ]
          },
          "metadata": {
            "tags": []
          },
          "execution_count": 20
        }
      ]
    },
    {
      "cell_type": "code",
      "metadata": {
        "id": "YNtWBaat-qjM",
        "colab_type": "code",
        "colab": {}
      },
      "source": [
        "ss = StandardScaler()\n",
        "X_std = ss.fit_transform(X)"
      ],
      "execution_count": 0,
      "outputs": []
    },
    {
      "cell_type": "code",
      "metadata": {
        "id": "MS12GB7S-qjS",
        "colab_type": "code",
        "colab": {
          "base_uri": "https://localhost:8080/",
          "height": 248
        },
        "outputId": "c22b520f-8a44-45ea-d94b-368c6333a6fc"
      },
      "source": [
        "X_std"
      ],
      "execution_count": 22,
      "outputs": [
        {
          "output_type": "execute_result",
          "data": {
            "text/plain": [
              "array([[ 1.53303429, -0.20157925, -0.2837415 , ...,  0.88644656,\n",
              "         0.71245988,  0.33167991],\n",
              "       [ 1.62899323,  0.91122681, -0.2837415 , ...,  0.88644656,\n",
              "         0.71245988,  0.33167991],\n",
              "       [-0.29018564,  0.91122681, -0.2837415 , ...,  0.88644656,\n",
              "         0.71245988,  0.33167991],\n",
              "       ...,\n",
              "       [ 1.53303429,  0.35482378, -0.2837415 , ..., -2.22495344,\n",
              "        -1.49518647, -2.8156966 ],\n",
              "       [ 0.38152696,  1.46762984, -0.2837415 , ..., -2.22495344,\n",
              "        -1.49518647, -2.8156966 ],\n",
              "       [ 3.26029527,  0.35482378, -0.2837415 , ..., -2.22495344,\n",
              "        -1.49518647, -2.8156966 ]])"
            ]
          },
          "metadata": {
            "tags": []
          },
          "execution_count": 22
        }
      ]
    },
    {
      "cell_type": "code",
      "metadata": {
        "id": "8c1eeNmY-qjY",
        "colab_type": "code",
        "colab": {}
      },
      "source": [
        "X_std_df = pd.DataFrame(X_std,columns = X.columns)"
      ],
      "execution_count": 0,
      "outputs": []
    },
    {
      "cell_type": "code",
      "metadata": {
        "id": "mLd5dPXO-qjf",
        "colab_type": "code",
        "colab": {
          "base_uri": "https://localhost:8080/",
          "height": 220
        },
        "outputId": "33ac6440-0a46-4ef2-df09-4e97569bd9da"
      },
      "source": [
        "X_std_df.head()"
      ],
      "execution_count": 24,
      "outputs": [
        {
          "output_type": "execute_result",
          "data": {
            "text/html": [
              "<div>\n",
              "<style scoped>\n",
              "    .dataframe tbody tr th:only-of-type {\n",
              "        vertical-align: middle;\n",
              "    }\n",
              "\n",
              "    .dataframe tbody tr th {\n",
              "        vertical-align: top;\n",
              "    }\n",
              "\n",
              "    .dataframe thead th {\n",
              "        text-align: right;\n",
              "    }\n",
              "</style>\n",
              "<table border=\"1\" class=\"dataframe\">\n",
              "  <thead>\n",
              "    <tr style=\"text-align: right;\">\n",
              "      <th></th>\n",
              "      <th>age</th>\n",
              "      <th>job</th>\n",
              "      <th>marital</th>\n",
              "      <th>education</th>\n",
              "      <th>default</th>\n",
              "      <th>housing</th>\n",
              "      <th>loan</th>\n",
              "      <th>contact</th>\n",
              "      <th>month</th>\n",
              "      <th>day_of_week</th>\n",
              "      <th>duration</th>\n",
              "      <th>campaign</th>\n",
              "      <th>pdays</th>\n",
              "      <th>previous</th>\n",
              "      <th>poutcome</th>\n",
              "      <th>emp.var.rate</th>\n",
              "      <th>cons.price.idx</th>\n",
              "      <th>cons.conf.idx</th>\n",
              "      <th>euribor3m</th>\n",
              "      <th>nr.employed</th>\n",
              "    </tr>\n",
              "  </thead>\n",
              "  <tbody>\n",
              "    <tr>\n",
              "      <th>0</th>\n",
              "      <td>1.533034</td>\n",
              "      <td>-0.201579</td>\n",
              "      <td>-0.283741</td>\n",
              "      <td>-1.753925</td>\n",
              "      <td>-0.513600</td>\n",
              "      <td>-1.087707</td>\n",
              "      <td>-0.452491</td>\n",
              "      <td>1.31827</td>\n",
              "      <td>0.762558</td>\n",
              "      <td>-0.718834</td>\n",
              "      <td>0.010471</td>\n",
              "      <td>-0.565922</td>\n",
              "      <td>0.195414</td>\n",
              "      <td>-0.349494</td>\n",
              "      <td>0.192622</td>\n",
              "      <td>0.648092</td>\n",
              "      <td>0.722722</td>\n",
              "      <td>0.886447</td>\n",
              "      <td>0.71246</td>\n",
              "      <td>0.33168</td>\n",
              "    </tr>\n",
              "    <tr>\n",
              "      <th>1</th>\n",
              "      <td>1.628993</td>\n",
              "      <td>0.911227</td>\n",
              "      <td>-0.283741</td>\n",
              "      <td>-0.349730</td>\n",
              "      <td>1.945327</td>\n",
              "      <td>-1.087707</td>\n",
              "      <td>-0.452491</td>\n",
              "      <td>1.31827</td>\n",
              "      <td>0.762558</td>\n",
              "      <td>-0.718834</td>\n",
              "      <td>-0.421501</td>\n",
              "      <td>-0.565922</td>\n",
              "      <td>0.195414</td>\n",
              "      <td>-0.349494</td>\n",
              "      <td>0.192622</td>\n",
              "      <td>0.648092</td>\n",
              "      <td>0.722722</td>\n",
              "      <td>0.886447</td>\n",
              "      <td>0.71246</td>\n",
              "      <td>0.33168</td>\n",
              "    </tr>\n",
              "    <tr>\n",
              "      <th>2</th>\n",
              "      <td>-0.290186</td>\n",
              "      <td>0.911227</td>\n",
              "      <td>-0.283741</td>\n",
              "      <td>-0.349730</td>\n",
              "      <td>-0.513600</td>\n",
              "      <td>0.942127</td>\n",
              "      <td>-0.452491</td>\n",
              "      <td>1.31827</td>\n",
              "      <td>0.762558</td>\n",
              "      <td>-0.718834</td>\n",
              "      <td>-0.124520</td>\n",
              "      <td>-0.565922</td>\n",
              "      <td>0.195414</td>\n",
              "      <td>-0.349494</td>\n",
              "      <td>0.192622</td>\n",
              "      <td>0.648092</td>\n",
              "      <td>0.722722</td>\n",
              "      <td>0.886447</td>\n",
              "      <td>0.71246</td>\n",
              "      <td>0.33168</td>\n",
              "    </tr>\n",
              "    <tr>\n",
              "      <th>3</th>\n",
              "      <td>-0.002309</td>\n",
              "      <td>-1.036184</td>\n",
              "      <td>-0.283741</td>\n",
              "      <td>-1.285860</td>\n",
              "      <td>-0.513600</td>\n",
              "      <td>-1.087707</td>\n",
              "      <td>-0.452491</td>\n",
              "      <td>1.31827</td>\n",
              "      <td>0.762558</td>\n",
              "      <td>-0.718834</td>\n",
              "      <td>-0.413787</td>\n",
              "      <td>-0.565922</td>\n",
              "      <td>0.195414</td>\n",
              "      <td>-0.349494</td>\n",
              "      <td>0.192622</td>\n",
              "      <td>0.648092</td>\n",
              "      <td>0.722722</td>\n",
              "      <td>0.886447</td>\n",
              "      <td>0.71246</td>\n",
              "      <td>0.33168</td>\n",
              "    </tr>\n",
              "    <tr>\n",
              "      <th>4</th>\n",
              "      <td>1.533034</td>\n",
              "      <td>0.911227</td>\n",
              "      <td>-0.283741</td>\n",
              "      <td>-0.349730</td>\n",
              "      <td>-0.513600</td>\n",
              "      <td>-1.087707</td>\n",
              "      <td>2.311440</td>\n",
              "      <td>1.31827</td>\n",
              "      <td>0.762558</td>\n",
              "      <td>-0.718834</td>\n",
              "      <td>0.187888</td>\n",
              "      <td>-0.565922</td>\n",
              "      <td>0.195414</td>\n",
              "      <td>-0.349494</td>\n",
              "      <td>0.192622</td>\n",
              "      <td>0.648092</td>\n",
              "      <td>0.722722</td>\n",
              "      <td>0.886447</td>\n",
              "      <td>0.71246</td>\n",
              "      <td>0.33168</td>\n",
              "    </tr>\n",
              "  </tbody>\n",
              "</table>\n",
              "</div>"
            ],
            "text/plain": [
              "        age       job   marital  ...  cons.conf.idx  euribor3m  nr.employed\n",
              "0  1.533034 -0.201579 -0.283741  ...       0.886447    0.71246      0.33168\n",
              "1  1.628993  0.911227 -0.283741  ...       0.886447    0.71246      0.33168\n",
              "2 -0.290186  0.911227 -0.283741  ...       0.886447    0.71246      0.33168\n",
              "3 -0.002309 -1.036184 -0.283741  ...       0.886447    0.71246      0.33168\n",
              "4  1.533034  0.911227 -0.283741  ...       0.886447    0.71246      0.33168\n",
              "\n",
              "[5 rows x 20 columns]"
            ]
          },
          "metadata": {
            "tags": []
          },
          "execution_count": 24
        }
      ]
    },
    {
      "cell_type": "code",
      "metadata": {
        "id": "h2KX7AXz-qjk",
        "colab_type": "code",
        "colab": {
          "base_uri": "https://localhost:8080/",
          "height": 390
        },
        "outputId": "b49f339f-f1a7-4eea-9185-e951c0435a1e"
      },
      "source": [
        "X_std_df.mean()"
      ],
      "execution_count": 25,
      "outputs": [
        {
          "output_type": "execute_result",
          "data": {
            "text/plain": [
              "age               2.846557e-16\n",
              "job              -3.143338e-15\n",
              "marital          -3.737972e-14\n",
              "education        -2.145619e-15\n",
              "default          -5.307998e-14\n",
              "housing          -4.828356e-14\n",
              "loan              1.783602e-15\n",
              "contact           1.167897e-13\n",
              "month             2.064064e-15\n",
              "day_of_week       3.742186e-15\n",
              "duration         -3.170967e-16\n",
              "campaign          1.845337e-14\n",
              "pdays             9.515119e-14\n",
              "previous          2.196991e-13\n",
              "poutcome         -1.095530e-14\n",
              "emp.var.rate     -1.851020e-13\n",
              "cons.price.idx   -5.933520e-14\n",
              "cons.conf.idx    -6.842191e-14\n",
              "euribor3m        -6.864230e-14\n",
              "nr.employed      -1.181213e-13\n",
              "dtype: float64"
            ]
          },
          "metadata": {
            "tags": []
          },
          "execution_count": 25
        }
      ]
    },
    {
      "cell_type": "code",
      "metadata": {
        "id": "uZykE-yV-qjo",
        "colab_type": "code",
        "colab": {
          "base_uri": "https://localhost:8080/",
          "height": 624
        },
        "outputId": "a0b4e789-5a6e-43cd-ee33-7a62611b52fd"
      },
      "source": [
        "X_std_df_corr = X_std_df.corr()\n",
        "plt.figure(figsize = (10,10))\n",
        "sns.heatmap(X_std_df_corr,square = True)"
      ],
      "execution_count": 26,
      "outputs": [
        {
          "output_type": "execute_result",
          "data": {
            "text/plain": [
              "<matplotlib.axes._subplots.AxesSubplot at 0x7ff0902e8f60>"
            ]
          },
          "metadata": {
            "tags": []
          },
          "execution_count": 26
        },
        {
          "output_type": "display_data",
          "data": {
            "image/png": "[encoded data removed]",
            "text/plain": [
              "<Figure size 720x720 with 2 Axes>"
            ]
          },
          "metadata": {
            "tags": [],
            "needs_background": "light"
          }
        }
      ]
    },
    {
      "cell_type": "code",
      "metadata": {
        "id": "lkX9s-Ar-qjt",
        "colab_type": "code",
        "colab": {
          "base_uri": "https://localhost:8080/",
          "height": 35
        },
        "outputId": "e8532db4-f407-47cf-ce68-71a04d2dcc3e"
      },
      "source": [
        "X_std_cov = np.cov(X_std.T)\n",
        "np.shape(X_std_cov)"
      ],
      "execution_count": 27,
      "outputs": [
        {
          "output_type": "execute_result",
          "data": {
            "text/plain": [
              "(20, 20)"
            ]
          },
          "metadata": {
            "tags": []
          },
          "execution_count": 27
        }
      ]
    },
    {
      "cell_type": "code",
      "metadata": {
        "id": "UqDyJmtV-qj0",
        "colab_type": "code",
        "colab": {
          "base_uri": "https://localhost:8080/",
          "height": 595
        },
        "outputId": "ae3ff989-e454-4655-cf29-1b9909465f65"
      },
      "source": [
        "plt.figure(figsize = (10,10))\n",
        "sns.heatmap(X_std_cov,square = True)"
      ],
      "execution_count": 28,
      "outputs": [
        {
          "output_type": "execute_result",
          "data": {
            "text/plain": [
              "<matplotlib.axes._subplots.AxesSubplot at 0x7ff0905615c0>"
            ]
          },
          "metadata": {
            "tags": []
          },
          "execution_count": 28
        },
        {
          "output_type": "display_data",
          "data": {
            "image/png": "[encoded data removed]",
            "text/plain": [
              "<Figure size 720x720 with 2 Axes>"
            ]
          },
          "metadata": {
            "tags": [],
            "needs_background": "light"
          }
        }
      ]
    },
    {
      "cell_type": "code",
      "metadata": {
        "id": "sH0ICDEz-qj5",
        "colab_type": "code",
        "colab": {}
      },
      "source": [
        "eigen_values,eigen_vectors = np.linalg.eigh(X_std_cov)"
      ],
      "execution_count": 0,
      "outputs": []
    },
    {
      "cell_type": "code",
      "metadata": {
        "id": "VrfTM_FX-qj_",
        "colab_type": "code",
        "colab": {
          "base_uri": "https://localhost:8080/",
          "height": 88
        },
        "outputId": "21a04d14-2ac2-4611-cdee-1126915c1346"
      },
      "source": [
        "eigen_values"
      ],
      "execution_count": 30,
      "outputs": [
        {
          "output_type": "execute_result",
          "data": {
            "text/plain": [
              "array([0.00700286, 0.02045531, 0.07052839, 0.2564046 , 0.55388825,\n",
              "       0.584921  , 0.74397625, 0.86050816, 0.9104288 , 0.92608682,\n",
              "       0.95388662, 0.98703258, 1.00653639, 1.03491175, 1.09072109,\n",
              "       1.13936455, 1.35815957, 1.54129953, 1.68476232, 4.26961076])"
            ]
          },
          "metadata": {
            "tags": []
          },
          "execution_count": 30
        }
      ]
    },
    {
      "cell_type": "code",
      "metadata": {
        "id": "Xa9VNIFz-qkE",
        "colab_type": "code",
        "colab": {
          "base_uri": "https://localhost:8080/",
          "height": 88
        },
        "outputId": "22bff559-23e9-4f3e-e6a4-f809827e451b"
      },
      "source": [
        "np.sort(eigen_values)[::-1]"
      ],
      "execution_count": 31,
      "outputs": [
        {
          "output_type": "execute_result",
          "data": {
            "text/plain": [
              "array([4.26961076, 1.68476232, 1.54129953, 1.35815957, 1.13936455,\n",
              "       1.09072109, 1.03491175, 1.00653639, 0.98703258, 0.95388662,\n",
              "       0.92608682, 0.9104288 , 0.86050816, 0.74397625, 0.584921  ,\n",
              "       0.55388825, 0.2564046 , 0.07052839, 0.02045531, 0.00700286])"
            ]
          },
          "metadata": {
            "tags": []
          },
          "execution_count": 31
        }
      ]
    },
    {
      "cell_type": "code",
      "metadata": {
        "id": "vd841pE_-qkK",
        "colab_type": "code",
        "colab": {}
      },
      "source": [
        "sorted_eig_vals = []\n",
        "sorted_eig_vecs = []\n",
        "for val,vec in sorted(zip(eigen_values,eigen_vectors),reverse = True):\n",
        "    sorted_eig_vals.append(val)\n",
        "    sorted_eig_vecs.append(vec)"
      ],
      "execution_count": 0,
      "outputs": []
    },
    {
      "cell_type": "code",
      "metadata": {
        "id": "nuNW8lI6-qkP",
        "colab_type": "code",
        "colab": {
          "base_uri": "https://localhost:8080/",
          "height": 293
        },
        "outputId": "c6917d98-2725-49eb-c270-a3522d2cefe4"
      },
      "source": [
        "sns.set(style=\"whitegrid\")\n",
        "plt.grid(linewidth=0.25)\n",
        "sns.barplot(x=list(range(len(sorted_eig_vals))), y=sorted_eig_vals/sum(sorted_eig_vals),\n",
        "            label='explained variance for individual component',color='limegreen')\n",
        "plt.ylabel('Explained variance')\n",
        "plt.xlabel('Principal components')\n",
        "plt.legend(loc='best')\n",
        "plt.tight_layout()"
      ],
      "execution_count": 33,
      "outputs": [
        {
          "output_type": "display_data",
          "data": {
            "image/png": "[encoded data removed]",
            "text/plain": [
              "<Figure size 432x288 with 1 Axes>"
            ]
          },
          "metadata": {
            "tags": []
          }
        }
      ]
    },
    {
      "cell_type": "code",
      "metadata": {
        "id": "hMZ5uQWA-qkT",
        "colab_type": "code",
        "colab": {
          "base_uri": "https://localhost:8080/",
          "height": 437
        },
        "outputId": "c2797997-a0d6-4c6f-ed8b-064bba0e17da"
      },
      "source": [
        "total_explained_variance = np.array(sorted_eig_vals).cumsum()/sum(sorted_eig_vals)\n",
        "plt.figure(figsize = (8,6))\n",
        "plt.grid(linewidth=0.25)\n",
        "plt.plot(range(1,len(sorted_eig_vals)+1),total_explained_variance,label='total explained variance till component')\n",
        "plt.plot(range(1,len(sorted_eig_vals)+1),[0.95]*len(sorted_eig_vals),'r-',label = '95% total explained variace')\n",
        "plt.ylabel('Total Explained variance percent', fontsize=16)\n",
        "plt.xlabel('Principal components', fontsize=16)\n",
        "plt.xticks(range(len(sorted_eig_vals)))\n",
        "plt.legend(loc='best')\n",
        "plt.tight_layout()"
      ],
      "execution_count": 34,
      "outputs": [
        {
          "output_type": "display_data",
          "data": {
            "image/png": "[encoded data removed]",
            "text/plain": [
              "<Figure size 576x432 with 1 Axes>"
            ]
          },
          "metadata": {
            "tags": []
          }
        }
      ]
    },
    {
      "cell_type": "code",
      "metadata": {
        "id": "KSRdhOoo-qkY",
        "colab_type": "code",
        "colab": {}
      },
      "source": [
        "#selecting 15 principal components as they add upto 95% of total explained variance\n",
        "\n",
        "#Note: It is not mandatory to select as many components so that they cover 95% of total explained variance , usually \n",
        "#       70-80% of total explained variance is enough while deciding the no. of PC's\n",
        "\n",
        "pcs = 15\n",
        "# we need to create a projection matrix to convert features to the new sub-space\n",
        "stack_vectors = []\n",
        "for i in range(pcs):\n",
        "    stack_vectors.append(sorted_eig_vecs[i].reshape(len(sorted_eig_vecs[i]),1))\n",
        "projection_matrix_w = np.hstack(stack_vectors)"
      ],
      "execution_count": 0,
      "outputs": []
    },
    {
      "cell_type": "code",
      "metadata": {
        "scrolled": true,
        "id": "t1kSf6tP-qke",
        "colab_type": "code",
        "colab": {
          "base_uri": "https://localhost:8080/",
          "height": 35
        },
        "outputId": "db24b98a-a934-4784-a526-b055cdcc5fac"
      },
      "source": [
        "np.shape(projection_matrix_w)"
      ],
      "execution_count": 36,
      "outputs": [
        {
          "output_type": "execute_result",
          "data": {
            "text/plain": [
              "(20, 15)"
            ]
          },
          "metadata": {
            "tags": []
          },
          "execution_count": 36
        }
      ]
    },
    {
      "cell_type": "code",
      "metadata": {
        "id": "9Z37D5sk-qkj",
        "colab_type": "code",
        "colab": {}
      },
      "source": [
        "#dot product of the projection matrix and the original space gives the new feature space\n",
        "new_feature_space = X_std.dot(projection_matrix_w)"
      ],
      "execution_count": 0,
      "outputs": []
    },
    {
      "cell_type": "code",
      "metadata": {
        "id": "IkzyY2Kj-qkn",
        "colab_type": "code",
        "colab": {
          "base_uri": "https://localhost:8080/",
          "height": 35
        },
        "outputId": "33c2781c-ab2e-4776-faf2-bab1fdae3427"
      },
      "source": [
        "np.shape(X_std),np.shape(new_feature_space)"
      ],
      "execution_count": 38,
      "outputs": [
        {
          "output_type": "execute_result",
          "data": {
            "text/plain": [
              "((41188, 20), (41188, 15))"
            ]
          },
          "metadata": {
            "tags": []
          },
          "execution_count": 38
        }
      ]
    },
    {
      "cell_type": "code",
      "metadata": {
        "id": "Naiw95Sp-qkr",
        "colab_type": "code",
        "colab": {
          "base_uri": "https://localhost:8080/",
          "height": 200
        },
        "outputId": "6af96496-27ee-4c36-9496-22168db35e89"
      },
      "source": [
        "new_df = pd.DataFrame(new_feature_space,columns = ['V'+str(x) for x in range(np.shape(new_feature_space)[1])])"
      ],
      "execution_count": 39,
      "outputs": [
        {
          "output_type": "execute_result",
          "data": {
            "text/html": [
              "<div>\n",
              "<style scoped>\n",
              "    .dataframe tbody tr th:only-of-type {\n",
              "        vertical-align: middle;\n",
              "    }\n",
              "\n",
              "    .dataframe tbody tr th {\n",
              "        vertical-align: top;\n",
              "    }\n",
              "\n",
              "    .dataframe thead th {\n",
              "        text-align: right;\n",
              "    }\n",
              "</style>\n",
              "<table border=\"1\" class=\"dataframe\">\n",
              "  <thead>\n",
              "    <tr style=\"text-align: right;\">\n",
              "      <th></th>\n",
              "      <th>V0</th>\n",
              "      <th>V1</th>\n",
              "      <th>V2</th>\n",
              "      <th>V3</th>\n",
              "      <th>V4</th>\n",
              "      <th>V5</th>\n",
              "      <th>V6</th>\n",
              "      <th>V7</th>\n",
              "      <th>V8</th>\n",
              "      <th>V9</th>\n",
              "      <th>V10</th>\n",
              "      <th>V11</th>\n",
              "      <th>V12</th>\n",
              "      <th>V13</th>\n",
              "      <th>V14</th>\n",
              "    </tr>\n",
              "  </thead>\n",
              "  <tbody>\n",
              "    <tr>\n",
              "      <th>0</th>\n",
              "      <td>0.636660</td>\n",
              "      <td>1.977266</td>\n",
              "      <td>-0.238452</td>\n",
              "      <td>-1.076627</td>\n",
              "      <td>-0.398075</td>\n",
              "      <td>0.327995</td>\n",
              "      <td>0.187767</td>\n",
              "      <td>-1.174569</td>\n",
              "      <td>-1.089410</td>\n",
              "      <td>-1.063151</td>\n",
              "      <td>0.184117</td>\n",
              "      <td>0.752385</td>\n",
              "      <td>0.740428</td>\n",
              "      <td>-0.343814</td>\n",
              "      <td>-0.697451</td>\n",
              "    </tr>\n",
              "    <tr>\n",
              "      <th>1</th>\n",
              "      <td>-1.104882</td>\n",
              "      <td>1.423838</td>\n",
              "      <td>0.216840</td>\n",
              "      <td>-0.358256</td>\n",
              "      <td>0.266418</td>\n",
              "      <td>0.303560</td>\n",
              "      <td>-0.067311</td>\n",
              "      <td>-0.778024</td>\n",
              "      <td>-1.135945</td>\n",
              "      <td>-1.078813</td>\n",
              "      <td>0.206557</td>\n",
              "      <td>-0.227637</td>\n",
              "      <td>1.049730</td>\n",
              "      <td>-0.545688</td>\n",
              "      <td>-0.363146</td>\n",
              "    </tr>\n",
              "    <tr>\n",
              "      <th>2</th>\n",
              "      <td>-0.175116</td>\n",
              "      <td>-0.063695</td>\n",
              "      <td>-0.152315</td>\n",
              "      <td>0.178442</td>\n",
              "      <td>1.003749</td>\n",
              "      <td>0.333224</td>\n",
              "      <td>-0.140580</td>\n",
              "      <td>-0.659460</td>\n",
              "      <td>-1.256062</td>\n",
              "      <td>-1.166917</td>\n",
              "      <td>0.353623</td>\n",
              "      <td>0.187088</td>\n",
              "      <td>0.869282</td>\n",
              "      <td>-0.406659</td>\n",
              "      <td>-0.552742</td>\n",
              "    </tr>\n",
              "    <tr>\n",
              "      <th>3</th>\n",
              "      <td>1.539783</td>\n",
              "      <td>0.704396</td>\n",
              "      <td>0.089979</td>\n",
              "      <td>-0.332496</td>\n",
              "      <td>-0.522124</td>\n",
              "      <td>0.389365</td>\n",
              "      <td>0.162632</td>\n",
              "      <td>-1.048380</td>\n",
              "      <td>-1.135437</td>\n",
              "      <td>-1.062630</td>\n",
              "      <td>0.105032</td>\n",
              "      <td>0.926021</td>\n",
              "      <td>0.412474</td>\n",
              "      <td>-0.553060</td>\n",
              "      <td>-0.435477</td>\n",
              "    </tr>\n",
              "    <tr>\n",
              "      <th>4</th>\n",
              "      <td>-0.609132</td>\n",
              "      <td>1.676226</td>\n",
              "      <td>-0.916790</td>\n",
              "      <td>-0.424136</td>\n",
              "      <td>0.529959</td>\n",
              "      <td>0.582342</td>\n",
              "      <td>-0.146752</td>\n",
              "      <td>-0.942271</td>\n",
              "      <td>-1.163565</td>\n",
              "      <td>-1.088270</td>\n",
              "      <td>0.480979</td>\n",
              "      <td>1.412521</td>\n",
              "      <td>0.134321</td>\n",
              "      <td>-0.299663</td>\n",
              "      <td>-0.867762</td>\n",
              "    </tr>\n",
              "  </tbody>\n",
              "</table>\n",
              "</div>"
            ],
            "text/plain": [
              "         V0        V1        V2  ...       V12       V13       V14\n",
              "0  0.636660  1.977266 -0.238452  ...  0.740428 -0.343814 -0.697451\n",
              "1 -1.104882  1.423838  0.216840  ...  1.049730 -0.545688 -0.363146\n",
              "2 -0.175116 -0.063695 -0.152315  ...  0.869282 -0.406659 -0.552742\n",
              "3  1.539783  0.704396  0.089979  ...  0.412474 -0.553060 -0.435477\n",
              "4 -0.609132  1.676226 -0.916790  ...  0.134321 -0.299663 -0.867762\n",
              "\n",
              "[5 rows x 15 columns]"
            ]
          },
          "metadata": {
            "tags": []
          },
          "execution_count": 39
        }
      ]
    },
    {
      "cell_type": "code",
      "metadata": {
        "id": "h7ZNhiLo-qkv",
        "colab_type": "code",
        "colab": {
          "base_uri": "https://localhost:8080/",
          "height": 200
        },
        "outputId": "25c6fd87-7ae6-4781-9c34-d2a76289bead"
      },
      "source": [
        "final_df = pd.concat([new_df,y],axis = 1)\n",
        "final_df.head()"
      ],
      "execution_count": 40,
      "outputs": [
        {
          "output_type": "execute_result",
          "data": {
            "text/html": [
              "<div>\n",
              "<style scoped>\n",
              "    .dataframe tbody tr th:only-of-type {\n",
              "        vertical-align: middle;\n",
              "    }\n",
              "\n",
              "    .dataframe tbody tr th {\n",
              "        vertical-align: top;\n",
              "    }\n",
              "\n",
              "    .dataframe thead th {\n",
              "        text-align: right;\n",
              "    }\n",
              "</style>\n",
              "<table border=\"1\" class=\"dataframe\">\n",
              "  <thead>\n",
              "    <tr style=\"text-align: right;\">\n",
              "      <th></th>\n",
              "      <th>V0</th>\n",
              "      <th>V1</th>\n",
              "      <th>V2</th>\n",
              "      <th>V3</th>\n",
              "      <th>V4</th>\n",
              "      <th>V5</th>\n",
              "      <th>V6</th>\n",
              "      <th>V7</th>\n",
              "      <th>V8</th>\n",
              "      <th>V9</th>\n",
              "      <th>V10</th>\n",
              "      <th>V11</th>\n",
              "      <th>V12</th>\n",
              "      <th>V13</th>\n",
              "      <th>V14</th>\n",
              "      <th>y</th>\n",
              "    </tr>\n",
              "  </thead>\n",
              "  <tbody>\n",
              "    <tr>\n",
              "      <th>0</th>\n",
              "      <td>0.636660</td>\n",
              "      <td>1.977266</td>\n",
              "      <td>-0.238452</td>\n",
              "      <td>-1.076627</td>\n",
              "      <td>-0.398075</td>\n",
              "      <td>0.327995</td>\n",
              "      <td>0.187767</td>\n",
              "      <td>-1.174569</td>\n",
              "      <td>-1.089410</td>\n",
              "      <td>-1.063151</td>\n",
              "      <td>0.184117</td>\n",
              "      <td>0.752385</td>\n",
              "      <td>0.740428</td>\n",
              "      <td>-0.343814</td>\n",
              "      <td>-0.697451</td>\n",
              "      <td>0</td>\n",
              "    </tr>\n",
              "    <tr>\n",
              "      <th>1</th>\n",
              "      <td>-1.104882</td>\n",
              "      <td>1.423838</td>\n",
              "      <td>0.216840</td>\n",
              "      <td>-0.358256</td>\n",
              "      <td>0.266418</td>\n",
              "      <td>0.303560</td>\n",
              "      <td>-0.067311</td>\n",
              "      <td>-0.778024</td>\n",
              "      <td>-1.135945</td>\n",
              "      <td>-1.078813</td>\n",
              "      <td>0.206557</td>\n",
              "      <td>-0.227637</td>\n",
              "      <td>1.049730</td>\n",
              "      <td>-0.545688</td>\n",
              "      <td>-0.363146</td>\n",
              "      <td>0</td>\n",
              "    </tr>\n",
              "    <tr>\n",
              "      <th>2</th>\n",
              "      <td>-0.175116</td>\n",
              "      <td>-0.063695</td>\n",
              "      <td>-0.152315</td>\n",
              "      <td>0.178442</td>\n",
              "      <td>1.003749</td>\n",
              "      <td>0.333224</td>\n",
              "      <td>-0.140580</td>\n",
              "      <td>-0.659460</td>\n",
              "      <td>-1.256062</td>\n",
              "      <td>-1.166917</td>\n",
              "      <td>0.353623</td>\n",
              "      <td>0.187088</td>\n",
              "      <td>0.869282</td>\n",
              "      <td>-0.406659</td>\n",
              "      <td>-0.552742</td>\n",
              "      <td>0</td>\n",
              "    </tr>\n",
              "    <tr>\n",
              "      <th>3</th>\n",
              "      <td>1.539783</td>\n",
              "      <td>0.704396</td>\n",
              "      <td>0.089979</td>\n",
              "      <td>-0.332496</td>\n",
              "      <td>-0.522124</td>\n",
              "      <td>0.389365</td>\n",
              "      <td>0.162632</td>\n",
              "      <td>-1.048380</td>\n",
              "      <td>-1.135437</td>\n",
              "      <td>-1.062630</td>\n",
              "      <td>0.105032</td>\n",
              "      <td>0.926021</td>\n",
              "      <td>0.412474</td>\n",
              "      <td>-0.553060</td>\n",
              "      <td>-0.435477</td>\n",
              "      <td>0</td>\n",
              "    </tr>\n",
              "    <tr>\n",
              "      <th>4</th>\n",
              "      <td>-0.609132</td>\n",
              "      <td>1.676226</td>\n",
              "      <td>-0.916790</td>\n",
              "      <td>-0.424136</td>\n",
              "      <td>0.529959</td>\n",
              "      <td>0.582342</td>\n",
              "      <td>-0.146752</td>\n",
              "      <td>-0.942271</td>\n",
              "      <td>-1.163565</td>\n",
              "      <td>-1.088270</td>\n",
              "      <td>0.480979</td>\n",
              "      <td>1.412521</td>\n",
              "      <td>0.134321</td>\n",
              "      <td>-0.299663</td>\n",
              "      <td>-0.867762</td>\n",
              "      <td>0</td>\n",
              "    </tr>\n",
              "  </tbody>\n",
              "</table>\n",
              "</div>"
            ],
            "text/plain": [
              "         V0        V1        V2        V3  ...       V12       V13       V14  y\n",
              "0  0.636660  1.977266 -0.238452 -1.076627  ...  0.740428 -0.343814 -0.697451  0\n",
              "1 -1.104882  1.423838  0.216840 -0.358256  ...  1.049730 -0.545688 -0.363146  0\n",
              "2 -0.175116 -0.063695 -0.152315  0.178442  ...  0.869282 -0.406659 -0.552742  0\n",
              "3  1.539783  0.704396  0.089979 -0.332496  ...  0.412474 -0.553060 -0.435477  0\n",
              "4 -0.609132  1.676226 -0.916790 -0.424136  ...  0.134321 -0.299663 -0.867762  0\n",
              "\n",
              "[5 rows x 16 columns]"
            ]
          },
          "metadata": {
            "tags": []
          },
          "execution_count": 40
        }
      ]
    },
    {
      "cell_type": "code",
      "metadata": {
        "id": "G9fhcq2y-qkz",
        "colab_type": "code",
        "colab": {
          "base_uri": "https://localhost:8080/",
          "height": 595
        },
        "outputId": "66b049a7-f8ca-4260-999a-e5d05f8775ff"
      },
      "source": [
        "plt.figure(figsize = (10,10))\n",
        "sns.heatmap(new_df.corr(),square = True)"
      ],
      "execution_count": 41,
      "outputs": [
        {
          "output_type": "execute_result",
          "data": {
            "text/plain": [
              "<matplotlib.axes._subplots.AxesSubplot at 0x7ff08a36f240>"
            ]
          },
          "metadata": {
            "tags": []
          },
          "execution_count": 41
        },
        {
          "output_type": "display_data",
          "data": {
            "image/png": "[encoded data removed]",
            "text/plain": [
              "<Figure size 720x720 with 2 Axes>"
            ]
          },
          "metadata": {
            "tags": []
          }
        }
      ]
    },
    {
      "cell_type": "code",
      "metadata": {
        "id": "xvTcFYqh-qk2",
        "colab_type": "code",
        "colab": {}
      },
      "source": [
        "# the very same analysis can be done using python libraries -- using SVD & PCA\n",
        "# SVD for singular value decomposition i.e.,principal components and PCA for new feature space\n",
        "#import scipy\n",
        "u, s, v = scipy.linalg.svd(X_std.T, full_matrices=True)"
      ],
      "execution_count": 0,
      "outputs": []
    },
    {
      "cell_type": "code",
      "metadata": {
        "scrolled": true,
        "id": "LDBLQ5qp-qk6",
        "colab_type": "code",
        "colab": {
          "base_uri": "https://localhost:8080/",
          "height": 106
        },
        "outputId": "c8c9d273-6f47-4ffb-aa99-1c2591f2a167"
      },
      "source": [
        "s"
      ],
      "execution_count": 43,
      "outputs": [
        {
          "output_type": "execute_result",
          "data": {
            "text/plain": [
              "array([419.34765808, 263.42039685, 251.95536099, 236.51325209,\n",
              "       216.62642405, 211.95171489, 206.45801055, 203.60799198,\n",
              "       201.62566975, 198.21132177, 195.30165829, 193.64356733,\n",
              "       188.25979229, 175.04899223, 155.21321203, 151.03971504,\n",
              "       102.76447039,  53.89668474,  29.02572959,  16.98313394])"
            ]
          },
          "metadata": {
            "tags": []
          },
          "execution_count": 43
        }
      ]
    },
    {
      "cell_type": "code",
      "metadata": {
        "id": "zT1SLATX-qk_",
        "colab_type": "code",
        "colab": {
          "base_uri": "https://localhost:8080/",
          "height": 437
        },
        "outputId": "e3d0854d-ce6b-4de4-b260-7ae3a681b52c"
      },
      "source": [
        "eigen_values = np.round(s**2/np.sum(s**2), decimals=3)\n",
        "\n",
        "plt.figure(figsize = (8,6))\n",
        "plt.grid(linewidth=0.25)\n",
        "sns.lineplot(x=list(range(1,len(eigen_values)+1)),\n",
        "            y=eigen_values, color=\"limegreen\")\n",
        "plt.scatter(5,eigen_values[4],color = 'r',marker = '*',zorder = 10)\n",
        "plt.xlabel('SVs', fontsize=16)\n",
        "plt.ylabel('Percent Variance Explained', fontsize=16)\n",
        "plt.xticks(range(1,21))\n",
        "plt.tight_layout()"
      ],
      "execution_count": 65,
      "outputs": [
        {
          "output_type": "display_data",
          "data": {
            "image/png": "[encoded data removed]",
            "text/plain": [
              "<Figure size 576x432 with 1 Axes>"
            ]
          },
          "metadata": {
            "tags": []
          }
        }
      ]
    },
    {
      "cell_type": "code",
      "metadata": {
        "id": "njZZ5MQA-qlE",
        "colab_type": "code",
        "colab": {
          "base_uri": "https://localhost:8080/",
          "height": 437
        },
        "outputId": "e15a4cf4-46ff-4caa-d66f-2f433a92af4f"
      },
      "source": [
        "#explained_var = np.array(s**2).cumsum()/sum(np.array(s**2))\n",
        "total_explained_variance = explained_var.cumsum()/sum(explained_var)\n",
        "\n",
        "plt.figure(figsize=(8,6))\n",
        "plt.grid(linewidth=0.25)\n",
        "plt.plot(range(1,len(explained_var)+1),total_explained_variance,label='total explained variance till component')\n",
        "plt.plot(range(1,len(explained_var)+1),[0.95]*len(explained_var),'r-',label = '95% total explained variace')\n",
        "plt.plot(range(1,len(explained_var)+1),[0.5]*len(explained_var),'g-',label = \"variance covered by 5 PC's\")\n",
        "plt.ylabel('Total Explained variance percent')\n",
        "plt.xlabel('Principal components')\n",
        "plt.xticks(range(len(explained_var)))\n",
        "plt.legend(loc='best')\n",
        "plt.tight_layout()"
      ],
      "execution_count": 66,
      "outputs": [
        {
          "output_type": "display_data",
          "data": {
            "image/png": "[encoded data removed]",
            "text/plain": [
              "<Figure size 576x432 with 1 Axes>"
            ]
          },
          "metadata": {
            "tags": []
          }
        }
      ]
    },
    {
      "cell_type": "code",
      "metadata": {
        "id": "4e_B4tx4-qlK",
        "colab_type": "code",
        "colab": {
          "base_uri": "https://localhost:8080/",
          "height": 235
        },
        "outputId": "a2672c01-cfd1-4cab-da2d-d065f0791931"
      },
      "source": [
        "#selecting 5 principal components based on the scree plot\n",
        "#Note: While selecting the number of principal components there is no fixed value usually smaller number\n",
        "#      of PC's contain most of the information i.e., total explained variance\n",
        "\n",
        "#from sklearn.decomposition import PCA \n",
        "pca = PCA(n_components=5) \n",
        "principalComponents = pca.fit_transform(X_std) \n",
        "principalDf = pd.DataFrame(data = principalComponents,columns = ['V'+str(x) for x in range(np.shape(principalComponents)[1])])\n",
        "print('The explained variance is ',pca.explained_variance_ratio_)\n",
        "print(\"Total variance covered by {} pc's is {}\".format(pca.n_components_,np.sum(pca.explained_variance_ratio_)))\n",
        "principalDf.head(5) # prints the top 5 rows"
      ],
      "execution_count": 73,
      "outputs": [
        {
          "output_type": "stream",
          "text": [
            "The explained variance is  [0.21347532 0.08423605 0.07701391 0.06780565 0.0569415 ]\n",
            "Total variance covered by 5 pc's is 0.49947242660221775\n"
          ],
          "name": "stdout"
        },
        {
          "output_type": "execute_result",
          "data": {
            "text/html": [
              "<div>\n",
              "<style scoped>\n",
              "    .dataframe tbody tr th:only-of-type {\n",
              "        vertical-align: middle;\n",
              "    }\n",
              "\n",
              "    .dataframe tbody tr th {\n",
              "        vertical-align: top;\n",
              "    }\n",
              "\n",
              "    .dataframe thead th {\n",
              "        text-align: right;\n",
              "    }\n",
              "</style>\n",
              "<table border=\"1\" class=\"dataframe\">\n",
              "  <thead>\n",
              "    <tr style=\"text-align: right;\">\n",
              "      <th></th>\n",
              "      <th>V0</th>\n",
              "      <th>V1</th>\n",
              "      <th>V2</th>\n",
              "      <th>V3</th>\n",
              "      <th>V4</th>\n",
              "    </tr>\n",
              "  </thead>\n",
              "  <tbody>\n",
              "    <tr>\n",
              "      <th>0</th>\n",
              "      <td>-1.633021</td>\n",
              "      <td>1.221959</td>\n",
              "      <td>1.637780</td>\n",
              "      <td>0.750003</td>\n",
              "      <td>-0.431613</td>\n",
              "    </tr>\n",
              "    <tr>\n",
              "      <th>1</th>\n",
              "      <td>-1.892187</td>\n",
              "      <td>1.322109</td>\n",
              "      <td>1.731891</td>\n",
              "      <td>0.275379</td>\n",
              "      <td>-1.181787</td>\n",
              "    </tr>\n",
              "    <tr>\n",
              "      <th>2</th>\n",
              "      <td>-1.437075</td>\n",
              "      <td>0.697272</td>\n",
              "      <td>-0.116446</td>\n",
              "      <td>0.816370</td>\n",
              "      <td>-1.082745</td>\n",
              "    </tr>\n",
              "    <tr>\n",
              "      <th>3</th>\n",
              "      <td>-1.606209</td>\n",
              "      <td>0.835789</td>\n",
              "      <td>0.850668</td>\n",
              "      <td>1.427860</td>\n",
              "      <td>-0.050874</td>\n",
              "    </tr>\n",
              "    <tr>\n",
              "      <th>4</th>\n",
              "      <td>-1.545787</td>\n",
              "      <td>1.154430</td>\n",
              "      <td>0.776060</td>\n",
              "      <td>0.302334</td>\n",
              "      <td>-1.223532</td>\n",
              "    </tr>\n",
              "  </tbody>\n",
              "</table>\n",
              "</div>"
            ],
            "text/plain": [
              "         V0        V1        V2        V3        V4\n",
              "0 -1.633021  1.221959  1.637780  0.750003 -0.431613\n",
              "1 -1.892187  1.322109  1.731891  0.275379 -1.181787\n",
              "2 -1.437075  0.697272 -0.116446  0.816370 -1.082745\n",
              "3 -1.606209  0.835789  0.850668  1.427860 -0.050874\n",
              "4 -1.545787  1.154430  0.776060  0.302334 -1.223532"
            ]
          },
          "metadata": {
            "tags": []
          },
          "execution_count": 73
        }
      ]
    },
    {
      "cell_type": "code",
      "metadata": {
        "id": "W9Qiqsos-qlM",
        "colab_type": "code",
        "colab": {
          "base_uri": "https://localhost:8080/",
          "height": 271
        },
        "outputId": "3255ff46-f23e-442c-be07-9164481dbb96"
      },
      "source": [
        "#since 5 PC's are not covering much of the variance we'll go the next edge value in scree plot \n",
        "# components 15 & 16 almost cover equal variance so we'll choose 15\n",
        "\n",
        "pca2 = PCA(n_components=15) \n",
        "principalComponents2 = pca2.fit_transform(X_std) \n",
        "principalDf2 = pd.DataFrame(data = principalComponents2,columns = ['V'+str(x) for x in range(np.shape(principalComponents2)[1])])\n",
        "print('The explained variance is ',pca2.explained_variance_ratio_)\n",
        "print(\"Total variance covered by {} pc's is {}\".format(pca2.n_components_,np.sum(pca2.explained_variance_ratio_)))\n",
        "principalDf2.head(5) # prints the top 5 rows"
      ],
      "execution_count": 74,
      "outputs": [
        {
          "output_type": "stream",
          "text": [
            "The explained variance is  [0.21347535 0.08423607 0.07706311 0.06790633 0.05696684 0.05453473\n",
            " 0.05174433 0.0503256  0.04935043 0.04769317 0.04630322 0.04552034\n",
            " 0.04302436 0.03719791 0.02924534]\n",
            "Total variance covered by 15 pc's is 0.9545871317673892\n"
          ],
          "name": "stdout"
        },
        {
          "output_type": "execute_result",
          "data": {
            "text/html": [
              "<div>\n",
              "<style scoped>\n",
              "    .dataframe tbody tr th:only-of-type {\n",
              "        vertical-align: middle;\n",
              "    }\n",
              "\n",
              "    .dataframe tbody tr th {\n",
              "        vertical-align: top;\n",
              "    }\n",
              "\n",
              "    .dataframe thead th {\n",
              "        text-align: right;\n",
              "    }\n",
              "</style>\n",
              "<table border=\"1\" class=\"dataframe\">\n",
              "  <thead>\n",
              "    <tr style=\"text-align: right;\">\n",
              "      <th></th>\n",
              "      <th>V0</th>\n",
              "      <th>V1</th>\n",
              "      <th>V2</th>\n",
              "      <th>V3</th>\n",
              "      <th>V4</th>\n",
              "      <th>V5</th>\n",
              "      <th>V6</th>\n",
              "      <th>V7</th>\n",
              "      <th>V8</th>\n",
              "      <th>V9</th>\n",
              "      <th>V10</th>\n",
              "      <th>V11</th>\n",
              "      <th>V12</th>\n",
              "      <th>V13</th>\n",
              "      <th>V14</th>\n",
              "    </tr>\n",
              "  </thead>\n",
              "  <tbody>\n",
              "    <tr>\n",
              "      <th>0</th>\n",
              "      <td>-1.633893</td>\n",
              "      <td>1.220856</td>\n",
              "      <td>1.679132</td>\n",
              "      <td>0.787346</td>\n",
              "      <td>-0.443977</td>\n",
              "      <td>-0.254886</td>\n",
              "      <td>-0.660905</td>\n",
              "      <td>-0.784893</td>\n",
              "      <td>0.642226</td>\n",
              "      <td>0.352250</td>\n",
              "      <td>0.008484</td>\n",
              "      <td>-0.451847</td>\n",
              "      <td>-0.304615</td>\n",
              "      <td>-1.479285</td>\n",
              "      <td>0.615401</td>\n",
              "    </tr>\n",
              "    <tr>\n",
              "      <th>1</th>\n",
              "      <td>-1.892403</td>\n",
              "      <td>1.321681</td>\n",
              "      <td>1.740295</td>\n",
              "      <td>0.270571</td>\n",
              "      <td>-1.174348</td>\n",
              "      <td>0.239619</td>\n",
              "      <td>-0.684300</td>\n",
              "      <td>-0.307109</td>\n",
              "      <td>0.690285</td>\n",
              "      <td>-0.775293</td>\n",
              "      <td>-1.562226</td>\n",
              "      <td>-0.405109</td>\n",
              "      <td>0.252759</td>\n",
              "      <td>0.488279</td>\n",
              "      <td>0.350896</td>\n",
              "    </tr>\n",
              "    <tr>\n",
              "      <th>2</th>\n",
              "      <td>-1.437338</td>\n",
              "      <td>0.696879</td>\n",
              "      <td>-0.093653</td>\n",
              "      <td>0.845131</td>\n",
              "      <td>-1.091596</td>\n",
              "      <td>-0.064370</td>\n",
              "      <td>0.622309</td>\n",
              "      <td>-0.333717</td>\n",
              "      <td>0.475866</td>\n",
              "      <td>-1.219126</td>\n",
              "      <td>0.533166</td>\n",
              "      <td>-0.301543</td>\n",
              "      <td>-0.549879</td>\n",
              "      <td>-0.849785</td>\n",
              "      <td>-0.158263</td>\n",
              "    </tr>\n",
              "    <tr>\n",
              "      <th>3</th>\n",
              "      <td>-1.606226</td>\n",
              "      <td>0.835584</td>\n",
              "      <td>0.858031</td>\n",
              "      <td>1.413030</td>\n",
              "      <td>-0.030683</td>\n",
              "      <td>-0.081554</td>\n",
              "      <td>-0.601134</td>\n",
              "      <td>-1.048949</td>\n",
              "      <td>0.255937</td>\n",
              "      <td>0.695911</td>\n",
              "      <td>0.249092</td>\n",
              "      <td>-1.044624</td>\n",
              "      <td>-0.239469</td>\n",
              "      <td>-1.037021</td>\n",
              "      <td>-0.050050</td>\n",
              "    </tr>\n",
              "    <tr>\n",
              "      <th>4</th>\n",
              "      <td>-1.546763</td>\n",
              "      <td>1.153343</td>\n",
              "      <td>0.822043</td>\n",
              "      <td>0.360532</td>\n",
              "      <td>-1.246052</td>\n",
              "      <td>0.070921</td>\n",
              "      <td>1.288390</td>\n",
              "      <td>0.133513</td>\n",
              "      <td>1.776191</td>\n",
              "      <td>1.433250</td>\n",
              "      <td>-1.050423</td>\n",
              "      <td>0.195480</td>\n",
              "      <td>-0.483059</td>\n",
              "      <td>-0.752264</td>\n",
              "      <td>0.657821</td>\n",
              "    </tr>\n",
              "  </tbody>\n",
              "</table>\n",
              "</div>"
            ],
            "text/plain": [
              "         V0        V1        V2  ...       V12       V13       V14\n",
              "0 -1.633893  1.220856  1.679132  ... -0.304615 -1.479285  0.615401\n",
              "1 -1.892403  1.321681  1.740295  ...  0.252759  0.488279  0.350896\n",
              "2 -1.437338  0.696879 -0.093653  ... -0.549879 -0.849785 -0.158263\n",
              "3 -1.606226  0.835584  0.858031  ... -0.239469 -1.037021 -0.050050\n",
              "4 -1.546763  1.153343  0.822043  ... -0.483059 -0.752264  0.657821\n",
              "\n",
              "[5 rows x 15 columns]"
            ]
          },
          "metadata": {
            "tags": []
          },
          "execution_count": 74
        }
      ]
    },
    {
      "cell_type": "code",
      "metadata": {
        "id": "bM3Gua0UvaQ5",
        "colab_type": "code",
        "colab": {}
      },
      "source": [
        ""
      ],
      "execution_count": 0,
      "outputs": []
    }
  ]
}